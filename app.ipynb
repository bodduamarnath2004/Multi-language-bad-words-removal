{
 "cells": [
  {
   "cell_type": "code",
   "execution_count": null,
   "id": "64ff9552",
   "metadata": {},
   "outputs": [
    {
     "name": "stdout",
     "output_type": "stream",
     "text": [
      " * Serving Flask app '__main__'\n",
      " * Debug mode: off\n"
     ]
    },
    {
     "name": "stderr",
     "output_type": "stream",
     "text": [
      "[nltk_data] Downloading package stopwords to\n",
      "[nltk_data]     /Users/abhishek/nltk_data...\n",
      "[nltk_data]   Package stopwords is already up-to-date!\n",
      "WARNING: This is a development server. Do not use it in a production deployment. Use a production WSGI server instead.\n",
      " * Running on http://127.0.0.1:5000\n",
      "Press CTRL+C to quit\n",
      "127.0.0.1 - - [02/Apr/2024 15:41:58] \"GET / HTTP/1.1\" 200 -\n",
      "127.0.0.1 - - [02/Apr/2024 15:42:10] \"POST / HTTP/1.1\" 200 -\n",
      "127.0.0.1 - - [02/Apr/2024 15:42:39] \"POST / HTTP/1.1\" 200 -\n",
      "127.0.0.1 - - [02/Apr/2024 15:43:37] \"POST / HTTP/1.1\" 200 -\n",
      "127.0.0.1 - - [02/Apr/2024 15:43:42] \"POST / HTTP/1.1\" 200 -\n",
      "127.0.0.1 - - [02/Apr/2024 15:43:46] \"POST / HTTP/1.1\" 200 -\n"
     ]
    }
   ],
   "source": [
    "from flask import *\n",
    "import pandas as pd\n",
    "import numpy as np\n",
    "import joblib\n",
    "import re\n",
    "import nltk\n",
    "from nltk.corpus import stopwords\n",
    "import string\n",
    "import requests\n",
    "nltk.download('stopwords')\n",
    "stemmer = nltk.SnowballStemmer(\"english\")\n",
    "stopword = set(stopwords.words('english'))\n",
    "\n",
    "app = Flask(__name__)\n",
    "bad_words = pd.read_csv('bad-words.csv')\n",
    "cv = joblib.load('vector.joblib')\n",
    "clf = joblib.load('model.joblib')\n",
    "\n",
    "def clean(text):\n",
    "    text = str(text).lower()\n",
    "    text = re.sub('\\[.*?\\]', '', text)\n",
    "    text = re.sub('https?://\\S+|www\\.\\S+', '', text)\n",
    "    text = re.sub('<.*?>+', '', text)\n",
    "    text = re.sub('[%s]' % re.escape(string.punctuation), '', text)\n",
    "    text = re.sub('\\n', '', text)\n",
    "    text = re.sub('\\w*\\d\\w*', '', text)\n",
    "    text = [word for word in text.split(' ') if word not in stopword]\n",
    "    text = \" \".join(text)\n",
    "    text = [stemmer.stem(word) for word in text.split(' ')]\n",
    "    text = \" \".join(text)\n",
    "    return text\n",
    "\n",
    "def predict_with_asterisks(user_input):\n",
    "    t = clean(user_input)\n",
    "    t = cv.transform([t])\n",
    "    output = clf.predict(t)\n",
    "    if output == 'No hate speech':\n",
    "        return user_input\n",
    "    else:\n",
    "        for word in bad_words['jigaboo']:\n",
    "            user_input = user_input.replace(word, '*' * len(word))\n",
    "        return user_input\n",
    "\n",
    "def translate(source_text,source):\n",
    "    source_lang = source\n",
    "    target_lang = 'en'\n",
    "    url = f\"https://translate.googleapis.com/translate_a/single?client=gtx&sl={source_lang}&tl={target_lang}&dt=t&q={source_text}\"\n",
    "    response = requests.get(url)\n",
    "    if response.status_code == 200:\n",
    "        data = response.json()\n",
    "        result_text = data[0][0][0]\n",
    "        return result_text\n",
    "    else:\n",
    "        return 'could not translate'\n",
    "    \n",
    "def ttranslate(source_text,source):\n",
    "    source_lang = 'en'\n",
    "    target_lang = source\n",
    "    url = f\"https://translate.googleapis.com/translate_a/single?client=gtx&sl={source_lang}&tl={target_lang}&dt=t&q={source_text}\"\n",
    "    response = requests.get(url)\n",
    "    if response.status_code == 200:\n",
    "        data = response.json()\n",
    "        result_text = data[0][0][0]\n",
    "        return result_text\n",
    "    else:\n",
    "        return 'could not translate'\n",
    "    \n",
    "@app.route('/')\n",
    "def hello():\n",
    "    return render_template('index.html',pred='')\n",
    "@app.route('/', methods=['POST'])\n",
    "def predict():\n",
    "    fea = [str(x) for x in request.form.values()]\n",
    "    s=translate(fea[1],fea[0])\n",
    "    s=predict_with_asterisks(s)\n",
    "    s=ttranslate(s,fea[0])\n",
    "    return render_template('index.html',pred=s)\n",
    "    \n",
    "if __name__ == '__main__':\n",
    "    app.run()\n"
   ]
  },
  {
   "cell_type": "code",
   "execution_count": null,
   "id": "f7ce1a7c",
   "metadata": {},
   "outputs": [],
   "source": []
  }
 ],
 "metadata": {
  "kernelspec": {
   "display_name": "Python 3 (ipykernel)",
   "language": "python",
   "name": "python3"
  },
  "language_info": {
   "codemirror_mode": {
    "name": "ipython",
    "version": 3
   },
   "file_extension": ".py",
   "mimetype": "text/x-python",
   "name": "python",
   "nbconvert_exporter": "python",
   "pygments_lexer": "ipython3",
   "version": "3.11.5"
  }
 },
 "nbformat": 4,
 "nbformat_minor": 5
}
